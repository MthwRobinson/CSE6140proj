{
 "cells": [
  {
   "cell_type": "code",
   "execution_count": 1,
   "metadata": {
    "collapsed": false
   },
   "outputs": [],
   "source": [
    "from min_vertex_cover import *\n",
    "from example_instances import *"
   ]
  },
  {
   "cell_type": "code",
   "execution_count": 2,
   "metadata": {
    "collapsed": true
   },
   "outputs": [],
   "source": [
    "import networkx as nx\n",
    "import sys, os\n",
    "import time\n",
    "from operator import itemgetter\n",
    "import scipy.optimize as opt\n",
    "import random\n",
    "from math import floor"
   ]
  },
  {
   "cell_type": "code",
   "execution_count": 3,
   "metadata": {
    "collapsed": false
   },
   "outputs": [],
   "source": [
    "G, header = read_graph('karate.graph')"
   ]
  },
  {
   "cell_type": "code",
   "execution_count": 4,
   "metadata": {
    "collapsed": false
   },
   "outputs": [],
   "source": [
    "cover, trace = minVC_LS1(G,restarts=20,pct=.25,randSeed=1)"
   ]
  },
  {
   "cell_type": "code",
   "execution_count": 5,
   "metadata": {
    "collapsed": false
   },
   "outputs": [
    {
     "data": {
      "text/plain": [
       "14"
      ]
     },
     "execution_count": 5,
     "metadata": {},
     "output_type": "execute_result"
    }
   ],
   "source": [
    "len(cover)"
   ]
  },
  {
   "cell_type": "code",
   "execution_count": 5,
   "metadata": {
    "collapsed": false
   },
   "outputs": [
    {
     "name": "stdout",
     "output_type": "stream",
     "text": [
      "hep-th.graph (73.4075359864909, 4006.909090909091)\n",
      "email.graph (3.589360427857, 622.3)\n",
      "star.graph (409.69079699499997, 7455.0)\n",
      "as-22july06.graph (269.92998039720004, 3454.9)\n",
      "delaunay_n10.graph (2.0004107475270003, 735.8)\n",
      "star2.graph (438.19972815500006, 4740.1)\n",
      "power.graph (18.40019729136, 2290.8)\n",
      "jazz.graph (0.522083759308, 159.7)\n",
      "karate.graph (0.0023567676544185004, 14.0)\n",
      "football.graph (0.059248995780863, 95.3)\n",
      "netscience.graph (2.145736789703, 902.4)\n"
     ]
    }
   ],
   "source": [
    "data_dir = os.getcwd()+'/DATA'\n",
    "for graph in os.listdir(data_dir):\n",
    "    print graph, ls_average(graph,'LS1')"
   ]
  },
  {
   "cell_type": "code",
   "execution_count": 6,
   "metadata": {
    "collapsed": false
   },
   "outputs": [
    {
     "name": "stdout",
     "output_type": "stream",
     "text": [
      "hep-th.graph\n",
      "runtime: 77.0946450233, number of vertices: 4007\n",
      "runtime: 77.2212381363, number of vertices: 4007\n",
      "runtime: 77.9369449615, number of vertices: 4014\n",
      "runtime: 81.9461629391, number of vertices: 4013\n",
      "runtime: 78.8331370354, number of vertices: 3985\n",
      "runtime: 76.3244628906, number of vertices: 3995\n",
      "runtime: 75.8710689545, number of vertices: 3997\n",
      "runtime: 75.1585540771, number of vertices: 4025\n",
      "runtime: 75.0643010139, number of vertices: 4007\n",
      "runtime: 74.1994001865, number of vertices: 4019\n",
      "email.graph\n",
      "runtime: 3.94397711754, number of vertices: 624\n",
      "runtime: 3.91673088074, number of vertices: 622\n",
      "runtime: 3.94638800621, number of vertices: 622\n",
      "runtime: 3.99621987343, number of vertices: 622\n",
      "runtime: 4.14813089371, number of vertices: 621\n",
      "runtime: 3.96657085419, number of vertices: 624\n",
      "runtime: 4.07472610474, number of vertices: 619\n",
      "runtime: 3.9604408741, number of vertices: 621\n",
      "runtime: 3.9864590168, number of vertices: 627\n",
      "runtime: 3.95149803162, number of vertices: 621\n",
      "star.graph\n",
      "runtime: 445.056601048, number of vertices: 7465\n",
      "runtime: 451.560528994, number of vertices: 7462\n",
      "runtime: 499.574864149, number of vertices: 7462\n",
      "runtime: 435.10087204, number of vertices: 7460\n",
      "runtime: 445.50473094, number of vertices: 7437\n",
      "runtime: 437.663884163, number of vertices: 7451\n",
      "runtime: 423.085012197, number of vertices: 7472\n",
      "runtime: 426.001188993, number of vertices: 7440\n",
      "runtime: 412.753072977, number of vertices: 7433\n",
      "runtime: 414.709319115, number of vertices: 7468\n",
      "as-22july06.graph\n",
      "runtime: 277.403578997, number of vertices: 3496\n",
      "runtime: 268.434909821, number of vertices: 3427\n",
      "runtime: 272.435290098, number of vertices: 3490\n",
      "runtime: 267.572677135, number of vertices: 3464\n",
      "runtime: 269.956557989, number of vertices: 3475\n",
      "runtime: 266.511125803, number of vertices: 3427\n",
      "runtime: 267.832597017, number of vertices: 3436\n",
      "runtime: 267.830749989, number of vertices: 3437\n",
      "runtime: 271.134043932, number of vertices: 3450\n",
      "runtime: 270.246122122, number of vertices: 3447\n",
      "delaunay_n10.graph\n",
      "runtime: 2.34566497803, number of vertices: 736\n",
      "runtime: 2.4055378437, number of vertices: 740\n",
      "runtime: 2.42809987068, number of vertices: 736\n",
      "runtime: 2.36252403259, number of vertices: 733\n",
      "runtime: 2.43579101562, number of vertices: 737\n",
      "runtime: 2.34953117371, number of vertices: 740\n",
      "runtime: 2.35111784935, number of vertices: 727\n",
      "runtime: 2.39320206642, number of vertices: 739\n",
      "runtime: 2.38141489029, number of vertices: 735\n",
      "runtime: 2.45770311356, number of vertices: 735\n",
      "star2.graph\n",
      "runtime: 438.79884696, number of vertices: 4734\n",
      "runtime: 440.471334934, number of vertices: 4721\n",
      "runtime: 442.602488041, number of vertices: 4742\n",
      "runtime: 443.857644081, number of vertices: 4755\n",
      "runtime: 443.030951977, number of vertices: 4752\n",
      "runtime: 442.449985027, number of vertices: 4736\n",
      "runtime: 440.549943924, number of vertices: 4730\n",
      "runtime: 443.200962067, number of vertices: 4736\n",
      "runtime: 447.291543007, number of vertices: 4741\n",
      "runtime: 442.443893909, number of vertices: 4754\n",
      "power.graph\n",
      "runtime: 19.6802108288, number of vertices: 2287\n",
      "runtime: 19.4620490074, number of vertices: 2284\n",
      "runtime: 19.676429987, number of vertices: 2307\n",
      "runtime: 19.6014959812, number of vertices: 2285\n",
      "runtime: 19.5833101273, number of vertices: 2289\n",
      "runtime: 19.5935709476, number of vertices: 2292\n",
      "runtime: 19.7394659519, number of vertices: 2293\n",
      "runtime: 19.5121178627, number of vertices: 2286\n",
      "runtime: 19.6290791035, number of vertices: 2294\n",
      "runtime: 19.6292159557, number of vertices: 2291\n",
      "jazz.graph\n",
      "runtime: 0.933129072189, number of vertices: 160\n",
      "runtime: 0.947345972061, number of vertices: 160\n",
      "runtime: 0.924906015396, number of vertices: 158\n",
      "runtime: 0.956605195999, number of vertices: 163\n",
      "runtime: 0.938591003418, number of vertices: 161\n",
      "runtime: 0.93638086319, number of vertices: 158\n",
      "runtime: 0.931001901627, number of vertices: 159\n",
      "runtime: 0.960953950882, number of vertices: 159\n",
      "runtime: 0.948666095734, number of vertices: 159\n",
      "runtime: 0.920679092407, number of vertices: 160\n",
      "karate.graph\n",
      "runtime: 0.00843381881714, number of vertices: 14\n",
      "runtime: 0.00825786590576, number of vertices: 14\n",
      "runtime: 0.00878000259399, number of vertices: 14\n",
      "runtime: 0.00855398178101, number of vertices: 14\n",
      "runtime: 0.00858283042908, number of vertices: 14\n",
      "runtime: 0.0085780620575, number of vertices: 14\n",
      "runtime: 0.00846099853516, number of vertices: 14\n",
      "runtime: 0.00968217849731, number of vertices: 14\n",
      "runtime: 0.0089910030365, number of vertices: 14\n",
      "runtime: 0.00815677642822, number of vertices: 14\n",
      "football.graph\n",
      "runtime: 0.142347097397, number of vertices: 96\n",
      "runtime: 0.143146038055, number of vertices: 95\n",
      "runtime: 0.144852876663, number of vertices: 97\n",
      "runtime: 0.140633106232, number of vertices: 95\n",
      "runtime: 0.14373588562, number of vertices: 94\n",
      "runtime: 0.14467215538, number of vertices: 96\n",
      "runtime: 0.147397041321, number of vertices: 95\n",
      "runtime: 0.142107963562, number of vertices: 95\n",
      "runtime: 0.142077922821, number of vertices: 95\n",
      "runtime: 0.145117998123, number of vertices: 95\n",
      "netscience.graph\n",
      "runtime: 2.90228199959, number of vertices: 903\n",
      "runtime: 2.83300113678, number of vertices: 907\n",
      "runtime: 2.86522293091, number of vertices: 900\n",
      "runtime: 2.89887690544, number of vertices: 902\n",
      "runtime: 2.81772494316, number of vertices: 901\n",
      "runtime: 2.82314801216, number of vertices: 901\n",
      "runtime: 2.87275600433, number of vertices: 902\n",
      "runtime: 2.89405918121, number of vertices: 901\n",
      "runtime: 2.83904385567, number of vertices: 903\n",
      "runtime: 2.90897893906, number of vertices: 904\n"
     ]
    }
   ],
   "source": [
    "data_dir = os.getcwd()+'/DATA/'\n",
    "for graph in os.listdir(data_dir):\n",
    "    print graph\n",
    "    for i in range(1,11):\n",
    "        run_graph(graph,method='LS1',randSeed=i)"
   ]
  },
  {
   "cell_type": "code",
   "execution_count": 7,
   "metadata": {
    "collapsed": false
   },
   "outputs": [
    {
     "name": "stdout",
     "output_type": "stream",
     "text": [
      "football.graph\n",
      "runtime: 3600.38156295, number of vertices: 96\n",
      "karate.graph\n",
      "runtime: 0.610683202744, number of vertices: 14\n",
      "jazz.graph\n",
      "runtime: 3606.08364987, number of vertices: 163\n"
     ]
    }
   ],
   "source": [
    "bnb_graphs = ['football.graph','karate.graph','jazz.graph']\n",
    "for graph in bnb_graphs:\n",
    "    print graph\n",
    "    run_graph(graph,method='BnB',cutoff=3600)"
   ]
  },
  {
   "cell_type": "code",
   "execution_count": 13,
   "metadata": {
    "collapsed": false
   },
   "outputs": [
    {
     "name": "stdout",
     "output_type": "stream",
     "text": [
      "hep-th.graph 4398 4.68202280998\n",
      "email.graph 712 0.194791078568\n",
      "star.graph 7399 19.2378349304\n",
      "as-22july06.graph 8104 28.9258370399\n",
      "delaunay_n10.graph 756 0.110913038254\n",
      "star2.graph 5220 34.4930369854\n",
      "power.graph 2464 1.08933901787\n",
      "jazz.graph 163 0.0437188148499\n",
      "karate.graph 19 0.000569105148315\n",
      "football.graph 97 0.00662016868591\n",
      "netscience.graph 943 0.149348974228\n"
     ]
    }
   ],
   "source": [
    "for graph in os.listdir(data_dir):\n",
    "    G, header = read_graph(graph)\n",
    "    start = time.time()\n",
    "    C = minVC_approx1(G)\n",
    "    total_time = time.time() - start\n",
    "    print graph, len(C), total_time\n",
    "    for edge in G.edges():\n",
    "        if (edge[0] not in C) and (edge[1] not in C):\n",
    "            print edge\n",
    "            print 'Error'"
   ]
  }
 ],
 "metadata": {
  "kernelspec": {
   "display_name": "Python 2",
   "language": "python",
   "name": "python2"
  },
  "language_info": {
   "codemirror_mode": {
    "name": "ipython",
    "version": 2
   },
   "file_extension": ".py",
   "mimetype": "text/x-python",
   "name": "python",
   "nbconvert_exporter": "python",
   "pygments_lexer": "ipython2",
   "version": "2.7.10"
  }
 },
 "nbformat": 4,
 "nbformat_minor": 0
}
